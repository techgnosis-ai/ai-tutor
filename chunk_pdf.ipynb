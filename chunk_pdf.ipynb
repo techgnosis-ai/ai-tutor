{
 "cells": [
  {
   "cell_type": "code",
   "execution_count": 1,
   "metadata": {},
   "outputs": [
    {
     "name": "stdout",
     "output_type": "stream",
     "text": [
      "Collecting PyPDF2\n",
      "  Downloading pypdf2-3.0.1-py3-none-any.whl.metadata (6.8 kB)\n",
      "Downloading pypdf2-3.0.1-py3-none-any.whl (232 kB)\n",
      "\u001b[2K   \u001b[90m━━━━━━━━━━━━━━━━━━━━━━━━━━━━━━━━━━━━━━━━\u001b[0m \u001b[32m232.6/232.6 kB\u001b[0m \u001b[31m2.5 MB/s\u001b[0m eta \u001b[36m0:00:00\u001b[0ma \u001b[36m0:00:01\u001b[0m\n",
      "\u001b[?25hInstalling collected packages: PyPDF2\n",
      "Successfully installed PyPDF2-3.0.1\n"
     ]
    }
   ],
   "source": [
    "!pip install PyPDF2"
   ]
  },
  {
   "cell_type": "code",
   "execution_count": 7,
   "metadata": {},
   "outputs": [],
   "source": [
    "from PyPDF2 import PdfReader, PdfWriter\n",
    "\n",
    "def extract_pages(source_pdf_path, output_pdf_path, start_page, end_page):\n",
    "    \"\"\"\n",
    "    Extracts a range of pages from a source PDF and saves them into a new PDF file.\n",
    "    \n",
    "    Parameters:\n",
    "        source_pdf_path (str): The file path of the source PDF.\n",
    "        output_pdf_path (str): The file path where the extracted pages will be saved.\n",
    "        start_page (int): The starting page number (0-based index).\n",
    "        end_page (int): The ending page number (0-based index).\n",
    "    \"\"\"\n",
    "    reader = PdfReader(source_pdf_path)\n",
    "    writer = PdfWriter()\n",
    "\n",
    "    # Extract the desired pages and add to the writer\n",
    "    for i in range(start_page - 1, end_page):\n",
    "        writer.add_page(reader.pages[i])\n",
    "\n",
    "    # Write the pages to a new PDF\n",
    "    with open(output_pdf_path, 'wb') as output_pdf:\n",
    "        writer.write(output_pdf)\n",
    "\n",
    "    print(f\"Pages {start_page} to {end_page} have been extracted to {output_pdf_path}\")\n"
   ]
  },
  {
   "cell_type": "code",
   "execution_count": 8,
   "metadata": {},
   "outputs": [
    {
     "name": "stdout",
     "output_type": "stream",
     "text": [
      "Pages 27 to 36 have been extracted to chunks/Biology2e_pg27-36.pdf\n"
     ]
    }
   ],
   "source": [
    "extract_pages('Biology2e.pdf', 'pdf_chunks/Biology2e_pg27-36.pdf', 27, 36)"
   ]
  },
  {
   "cell_type": "code",
   "execution_count": null,
   "metadata": {},
   "outputs": [],
   "source": []
  }
 ],
 "metadata": {
  "kernelspec": {
   "display_name": "openstax",
   "language": "python",
   "name": "python3"
  },
  "language_info": {
   "codemirror_mode": {
    "name": "ipython",
    "version": 3
   },
   "file_extension": ".py",
   "mimetype": "text/x-python",
   "name": "python",
   "nbconvert_exporter": "python",
   "pygments_lexer": "ipython3",
   "version": "3.11.8"
  }
 },
 "nbformat": 4,
 "nbformat_minor": 2
}
